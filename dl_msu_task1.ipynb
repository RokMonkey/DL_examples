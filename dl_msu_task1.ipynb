{
  "nbformat": 4,
  "nbformat_minor": 0,
  "metadata": {
    "colab": {
      "provenance": [],
      "toc_visible": true
    },
    "kernelspec": {
      "name": "python3",
      "display_name": "Python 3"
    },
    "language_info": {
      "name": "python"
    }
  },
  "cells": [
    {
      "cell_type": "code",
      "execution_count": null,
      "metadata": {
        "id": "FvYYfSvpmoY-"
      },
      "outputs": [],
      "source": [
        "import numpy as np\n",
        "import json\n",
        "import re\n",
        "import torch\n",
        "version = torch.__version__"
      ]
    },
    {
      "cell_type": "code",
      "source": [
        "# не изменяйте код в блоке ниже! Он нужен для проверки правильности вашего кода.\n",
        "# __________start of block__________\n",
        "assert version is not None, 'Версия PyTorch не сохранилась в переменную version'\n",
        "major_version, minor_version = re.findall(\"\\d+\\.\\d+\", version)[0].split('.')\n",
        "assert float(major_version) >= 2 or (float(major_version) >= 1 and float(minor_version) >= 7), 'Нужно обновить PyTorch'\n",
        "# __________end of block__________            Теперь импортируйте модуль nn и внутри функции create_model постройте нейронную сеть из трех линейных слоев размерностей 256, 16 и 10. Не забывайте о свободном члене (bias).\n",
        "\n",
        "#Исходные элементы данных имеют размерность 784. В качестве функций активации скрытых слоев используйте ReLU. Самый последний слой оставьте без функции активации.\n",
        "\n",
        "#В этом задании можно пользоваться torch.nn.Sequential()\n"
      ],
      "metadata": {
        "id": "-kf8l2aTm6Vv"
      },
      "execution_count": null,
      "outputs": []
    },
    {
      "cell_type": "code",
      "source": [
        "import torch.nn as nn\n",
        "\n",
        "def create_model():\n",
        "    # Linear layer mapping from 784 features, so it should be 784->256->16->10\n",
        "\n",
        "    model = nn.Sequential(\n",
        "        nn.Linear(784, 256, bias=True),\n",
        "        nn.ReLU(),\n",
        "        nn.Linear(256, 16, bias=True),\n",
        "        nn.ReLU(),\n",
        "        nn.Linear(16, 10, bias=True)\n",
        "    )\n",
        "\n",
        "    # return model instance (None is just a placeholder)\n",
        "\n",
        "    return model\n",
        "model = create_model()\n",
        "# не изменяйте код в блоке ниже! Он нужен для проверки правильности вашего кода.\n",
        "# __________start of block__________\n",
        "for param in model.parameters():\n",
        "    nn.init.constant_(param, 1.)\n",
        "\n",
        "assert torch.allclose(model(torch.ones((1, 784))), torch.ones((1, 10)) * 3215377.), 'Что-то не так со структурой модели'\n",
        "\n",
        "# __________end of block__________ Скопируйте функцию create_model в submission_template01.py для последующей сдачи задания.\n"
      ],
      "metadata": {
        "id": "3raj2ONbnLjf"
      },
      "execution_count": null,
      "outputs": []
    },
    {
      "cell_type": "code",
      "source": [
        "#Реализуйте функцию для подсчета количества параметров в модели (вам может помочь model.parameters()).\n",
        "\n",
        "#На вход она принимает модель, на выход возвращает одно число – количество параметров в модели. Для вашего удобства доступно несколько тестов ниже.\n",
        "def count_parameters(model):\n",
        "    # your code here\n",
        "    return sum(p.numel() for p in model.parameters() if p.requires_grad)\n",
        "\n",
        "\n",
        "# не изменяйте код в блоке ниже! Он нужен для проверки правильности вашего кода.\n",
        "# __________start of block__________\n",
        "small_model = nn.Linear(128, 256)\n",
        "assert count_parameters(small_model) == 128 * 256 + 256, 'Что-то не так, количество параметров неверное'\n",
        "\n",
        "medium_model = nn.Sequential(*[nn.Linear(128, 32, bias=False), nn.ReLU(), nn.Linear(32, 10, bias=False)])\n",
        "assert count_parameters(medium_model) == 128 * 32 + 32 * 10, 'Что-то не так, количество параметров неверное'\n",
        "print(\"Seems fine!\")\n",
        "# __________end of block__________"
      ],
      "metadata": {
        "colab": {
          "base_uri": "https://localhost:8080/"
        },
        "id": "yN6ZJJQunOD9",
        "outputId": "2ae72fe7-1111-4525-8659-2142fe759fc8"
      },
      "execution_count": null,
      "outputs": [
        {
          "output_type": "stream",
          "name": "stdout",
          "text": [
            "Seems fine!\n"
          ]
        }
      ]
    }
  ]
}