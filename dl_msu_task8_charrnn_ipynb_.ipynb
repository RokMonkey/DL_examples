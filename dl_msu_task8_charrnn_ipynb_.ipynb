{
  "cells": [
    {
      "cell_type": "markdown",
      "metadata": {
        "id": "FszmDROF12gL"
      },
      "source": [
        "## Домашнее задание №8.\n",
        "### Генерация поэзии с помощью нейронных сетей: шаг 1\n",
        "##### Авторы: [Радослав Нейчев](https://www.linkedin.com/in/radoslav-neychev/), Горохов Олег\n",
        "\n",
        "Ваша основная задача: научиться генерировать стихи с помощью простой рекуррентной нейронной сети (Vanilla RNN). В качестве корпуса текстов для обучения будет выступать роман в стихах \"Евгений Онегин\" Александра Сергеевича Пушкина."
      ]
    },
    {
      "cell_type": "code",
      "execution_count": 70,
      "metadata": {
        "id": "VK6EUBMt12gN"
      },
      "outputs": [],
      "source": [
        "# Не меняйте блок кода ниже! Здесь указаны все необходимые import-ы\n",
        "# __________start of block__________\n",
        "import string\n",
        "import os\n",
        "from random import sample\n",
        "\n",
        "import numpy as np\n",
        "import torch, torch.nn as nn\n",
        "import torch.nn.functional as F\n",
        "\n",
        "from IPython.display import clear_output\n",
        "\n",
        "import matplotlib.pyplot as plt\n",
        "%matplotlib inline\n",
        "# __________end of block__________"
      ]
    },
    {
      "cell_type": "code",
      "execution_count": 71,
      "metadata": {
        "id": "VEC9Irlo12gO",
        "colab": {
          "base_uri": "https://localhost:8080/"
        },
        "outputId": "d3e66bd8-14cb-4d70-966c-ee95e752b271"
      },
      "outputs": [
        {
          "output_type": "stream",
          "name": "stdout",
          "text": [
            "cuda device is available\n"
          ]
        }
      ],
      "source": [
        "# Не меняйте блок кода ниже!\n",
        "# __________start of block__________\n",
        "device = torch.device('cuda') if torch.cuda.is_available() else torch.device('cpu')\n",
        "print('{} device is available'.format(device))\n",
        "# __________end of block__________"
      ]
    },
    {
      "cell_type": "markdown",
      "metadata": {
        "id": "MPenWOy01Ooa",
        "outputId": "a92e8e33-e009-4bd4-ac12-3b1b5e1cd3f2"
      },
      "source": [
        "#### 1. Загрузка данных."
      ]
    },
    {
      "cell_type": "code",
      "execution_count": 72,
      "metadata": {
        "id": "OhD8UJzN12gP",
        "colab": {
          "base_uri": "https://localhost:8080/"
        },
        "outputId": "e3731ecf-e743-4935-caa4-2c1e94b36266"
      },
      "outputs": [
        {
          "output_type": "stream",
          "name": "stdout",
          "text": [
            "--2024-12-01 15:32:41--  https://raw.githubusercontent.com/MSUcourses/Data-Analysis-with-Python/main/Deep%20Learning/onegin_hw07.txt\n",
            "Resolving raw.githubusercontent.com (raw.githubusercontent.com)... 185.199.111.133, 185.199.110.133, 185.199.109.133, ...\n",
            "Connecting to raw.githubusercontent.com (raw.githubusercontent.com)|185.199.111.133|:443... connected.\n",
            "HTTP request sent, awaiting response... 200 OK\n",
            "Length: 262521 (256K) [text/plain]\n",
            "Saving to: ‘./onegin.txt’\n",
            "\n",
            "\r./onegin.txt          0%[                    ]       0  --.-KB/s               \r./onegin.txt        100%[===================>] 256.37K  --.-KB/s    in 0.03s   \n",
            "\n",
            "2024-12-01 15:32:41 (8.64 MB/s) - ‘./onegin.txt’ saved [262521/262521]\n",
            "\n"
          ]
        }
      ],
      "source": [
        "# do not change the code in the block below\n",
        "# __________start of block__________\n",
        "!wget https://raw.githubusercontent.com/MSUcourses/Data-Analysis-with-Python/main/Deep%20Learning/onegin_hw07.txt -O ./onegin.txt\n",
        "\n",
        "with open('onegin.txt', 'r') as iofile:\n",
        "    text = iofile.readlines()\n",
        "\n",
        "text = \"\".join([x.replace('\\t\\t', '').lower() for x in text]) # Убираем лишние символы табуляций, приводим все буквы к нижнему регистру\n",
        "# __________end of block__________"
      ]
    },
    {
      "cell_type": "markdown",
      "source": [
        "Выведем несколько первых символов входного текста. Видим, что символы табуляций удалены, буквы приведены к нижнему регистру. Символы \\n мы оставляем - чтобы научить сеть генерировать символ \\n, когда нужно перейти на новую строку."
      ],
      "metadata": {
        "id": "rR6n1UmvZ8DC"
      }
    },
    {
      "cell_type": "code",
      "source": [
        "text[:36]"
      ],
      "metadata": {
        "colab": {
          "base_uri": "https://localhost:8080/",
          "height": 36
        },
        "id": "ksrWh_hvZsY_",
        "outputId": "3af48d4e-1525-4e95-f442-e3950c4ea0d6"
      },
      "execution_count": 73,
      "outputs": [
        {
          "output_type": "execute_result",
          "data": {
            "text/plain": [
              "'\\ni\\n\\n«мой дядя самых честных правил,\\n'"
            ],
            "application/vnd.google.colaboratory.intrinsic+json": {
              "type": "string"
            }
          },
          "metadata": {},
          "execution_count": 73
        }
      ]
    },
    {
      "cell_type": "markdown",
      "metadata": {
        "id": "XQYpmGfR_gJ8"
      },
      "source": [
        "#### 2. Построение словаря и предобработка текста\n",
        "В данном задании требуется построить языковую модель на уровне символов. Приведем весь текст к нижнему регистру и построим словарь из всех символов в доступном корпусе текстов. Также добавим технический токен `<sos>`."
      ]
    },
    {
      "cell_type": "code",
      "execution_count": 74,
      "metadata": {
        "id": "FyYTS2kC12gQ",
        "colab": {
          "base_uri": "https://localhost:8080/"
        },
        "outputId": "f69c5be9-5d4f-4d0b-87a2-ef9401df2f8d"
      },
      "outputs": [
        {
          "output_type": "stream",
          "name": "stdout",
          "text": [
            "Seems fine!\n"
          ]
        }
      ],
      "source": [
        "# Не меняйте блок кода ниже!\n",
        "# __________start of block__________\n",
        "tokens = sorted(set(text.lower())) + ['<sos>'] # Строим множество всех токенов-символов и добавляем к нему служебный токен <sos>\n",
        "num_tokens = len(tokens)\n",
        "\n",
        "assert num_tokens == 84, \"Check the tokenization process\"\n",
        "\n",
        "token_to_idx = {x: idx for idx, x in enumerate(tokens)} # Строим словарь с ключами-токенами и значениями-индексами в списке токенов\n",
        "idx_to_token = {idx: x for idx, x in enumerate(tokens)} # Строим обратный словарь (чтобы по индексу можно было получить токен)\n",
        "\n",
        "assert len(tokens) == len(token_to_idx), \"Mapping should be unique\"\n",
        "\n",
        "print(\"Seems fine!\")\n",
        "\n",
        "\n",
        "text_encoded = [token_to_idx[x] for x in text]\n",
        "# __________end of block__________"
      ]
    },
    {
      "cell_type": "markdown",
      "metadata": {
        "id": "ITona8rr12gQ"
      },
      "source": [
        "__Ваша задача__: обучить классическую рекуррентную нейронную сеть (Vanilla RNN) предсказывать следующий символ на полученном корпусе текстов и сгенерировать последовательность длины 100 для фиксированной начальной фразы.\n",
        "\n",
        "Вы можете воспользоваться кодом с занятия №6 или же обратиться к следующим ссылкам:\n",
        "* Замечательная статья за авторством Andrej Karpathy об использовании RNN: [link](http://karpathy.github.io/2015/05/21/rnn-effectiveness/)\n",
        "* Пример char-rnn от Andrej Karpathy: [github repo](https://github.com/karpathy/char-rnn)\n",
        "* Замечательный пример генерации поэзии Шекспира: [github repo](https://github.com/spro/practical-pytorch/blob/master/char-rnn-generation/char-rnn-generation.ipynb)\n",
        "\n",
        "Данное задание является достаточно творческим. Не страшно, если поначалу оно вызывает затруднения. Последняя ссылка в списке выше может быть особенно полезна в данном случае.\n",
        "\n",
        "Далее для вашего удобства реализована функция, которая генерирует случайный батч размера `batch_size` из строк длиной `seq_length`. Вы можете использовать его при обучении модели."
      ]
    },
    {
      "cell_type": "code",
      "execution_count": 75,
      "metadata": {
        "id": "B1R2KoN212gQ"
      },
      "outputs": [],
      "source": [
        "# Не меняйте код ниже\n",
        "# __________start of block__________\n",
        "batch_size = 256 # Размер батча. Батч - это набор последовательностей символов.\n",
        "seq_length = 100 # Максимальная длина одной последовательности символов в батче\n",
        "start_column = np.zeros((batch_size, 1), dtype=int) + token_to_idx['<sos>'] # Добавляем в начало каждой строки технический символ - для определения начального состояния сети\n",
        "\n",
        "def generate_chunk():\n",
        "    global text_encoded, start_column, batch_size, seq_length\n",
        "\n",
        "    start_index = np.random.randint(0, len(text_encoded) - batch_size*seq_length - 1) # Случайным образом выбираем индекс начального символа в батче\n",
        "    # Строим непрерывный батч.\n",
        "    # Для этого выбираем в исходном тексте подпоследовательность, которая начинается с индекса start_index и имеет размер batch_size*seq_length.\n",
        "    # Затем мы делим эту подпоследовательность на batch_size последовательностей размера seq_length. Это и будет батч, матрица размера batch_size*seq_length.\n",
        "    # В каждой строке матрицы будут указаны индексы\n",
        "    data = np.array(text_encoded[start_index:start_index + batch_size*seq_length]).reshape((batch_size, -1))\n",
        "    yield np.hstack((start_column, data))\n",
        "# __________end of block__________"
      ]
    },
    {
      "cell_type": "markdown",
      "metadata": {
        "id": "SHohQt0V12gR"
      },
      "source": [
        "Пример батча:"
      ]
    },
    {
      "cell_type": "code",
      "execution_count": 76,
      "metadata": {
        "id": "jyuWYgeZ12gR",
        "outputId": "f8f24f31-5f65-4f6c-a261-3e7deb567ea5",
        "colab": {
          "base_uri": "https://localhost:8080/"
        }
      },
      "outputs": [
        {
          "output_type": "execute_result",
          "data": {
            "text/plain": [
              "array([[83, 54,  7, ..., 54,  1, 48],\n",
              "       [83, 61, 50, ..., 45, 63, 45],\n",
              "       [83, 57,  1, ..., 49, 59, 56],\n",
              "       ...,\n",
              "       [83, 50, 62, ...,  0, 50, 50],\n",
              "       [83,  1, 60, ..., 52, 47, 64],\n",
              "       [83, 55,  1, ..., 72,  5,  1]])"
            ]
          },
          "metadata": {},
          "execution_count": 76
        }
      ],
      "source": [
        "next(generate_chunk())"
      ]
    },
    {
      "cell_type": "markdown",
      "metadata": {
        "id": "MZ5vfEKM12gS"
      },
      "source": [
        "Далее вам предстоит написать код для обучения модели и генерации текста."
      ]
    },
    {
      "cell_type": "code",
      "execution_count": 77,
      "metadata": {
        "id": "7XBmwWxp12gS",
        "colab": {
          "base_uri": "https://localhost:8080/"
        },
        "outputId": "0759a230-ec7e-447e-c593-20c89cd77176"
      },
      "outputs": [
        {
          "output_type": "stream",
          "name": "stdout",
          "text": [
            "Epoch: 1/100, Batch: 0, Loss: 4.4804\n",
            "Epoch: 2/100, Batch: 0, Loss: 4.3473\n",
            "Epoch: 3/100, Batch: 0, Loss: 4.2207\n",
            "Epoch: 4/100, Batch: 0, Loss: 4.0833\n",
            "Epoch: 5/100, Batch: 0, Loss: 3.9119\n",
            "Epoch: 6/100, Batch: 0, Loss: 3.7233\n",
            "Epoch: 7/100, Batch: 0, Loss: 3.5372\n",
            "Epoch: 8/100, Batch: 0, Loss: 3.3887\n",
            "Epoch: 9/100, Batch: 0, Loss: 3.3309\n",
            "Epoch: 10/100, Batch: 0, Loss: 3.2634\n",
            "Epoch: 11/100, Batch: 0, Loss: 3.2249\n",
            "Epoch: 12/100, Batch: 0, Loss: 3.1961\n",
            "Epoch: 13/100, Batch: 0, Loss: 3.1387\n",
            "Epoch: 14/100, Batch: 0, Loss: 3.1322\n",
            "Epoch: 15/100, Batch: 0, Loss: 3.0901\n",
            "Epoch: 16/100, Batch: 0, Loss: 3.0514\n",
            "Epoch: 17/100, Batch: 0, Loss: 3.0139\n",
            "Epoch: 18/100, Batch: 0, Loss: 3.0075\n",
            "Epoch: 19/100, Batch: 0, Loss: 2.9916\n",
            "Epoch: 20/100, Batch: 0, Loss: 2.9654\n",
            "Epoch: 21/100, Batch: 0, Loss: 2.9210\n",
            "Epoch: 22/100, Batch: 0, Loss: 2.9270\n",
            "Epoch: 23/100, Batch: 0, Loss: 2.9018\n",
            "Epoch: 24/100, Batch: 0, Loss: 2.8880\n",
            "Epoch: 25/100, Batch: 0, Loss: 2.8504\n",
            "Epoch: 26/100, Batch: 0, Loss: 2.8247\n",
            "Epoch: 27/100, Batch: 0, Loss: 2.8292\n",
            "Epoch: 28/100, Batch: 0, Loss: 2.8193\n",
            "Epoch: 29/100, Batch: 0, Loss: 2.7938\n",
            "Epoch: 30/100, Batch: 0, Loss: 2.7902\n",
            "Epoch: 31/100, Batch: 0, Loss: 2.7780\n",
            "Epoch: 32/100, Batch: 0, Loss: 2.7622\n",
            "Epoch: 33/100, Batch: 0, Loss: 2.7448\n",
            "Epoch: 34/100, Batch: 0, Loss: 2.7302\n",
            "Epoch: 35/100, Batch: 0, Loss: 2.7053\n",
            "Epoch: 36/100, Batch: 0, Loss: 2.7064\n",
            "Epoch: 37/100, Batch: 0, Loss: 2.6767\n",
            "Epoch: 38/100, Batch: 0, Loss: 2.6837\n",
            "Epoch: 39/100, Batch: 0, Loss: 2.6742\n",
            "Epoch: 40/100, Batch: 0, Loss: 2.6408\n",
            "Epoch: 41/100, Batch: 0, Loss: 2.6599\n",
            "Epoch: 42/100, Batch: 0, Loss: 2.6711\n",
            "Epoch: 43/100, Batch: 0, Loss: 2.6591\n",
            "Epoch: 44/100, Batch: 0, Loss: 2.6340\n",
            "Epoch: 45/100, Batch: 0, Loss: 2.6141\n",
            "Epoch: 46/100, Batch: 0, Loss: 2.6297\n",
            "Epoch: 47/100, Batch: 0, Loss: 2.6008\n",
            "Epoch: 48/100, Batch: 0, Loss: 2.6014\n",
            "Epoch: 49/100, Batch: 0, Loss: 2.6092\n",
            "Epoch: 50/100, Batch: 0, Loss: 2.5639\n",
            "Epoch: 51/100, Batch: 0, Loss: 2.5717\n",
            "Epoch: 52/100, Batch: 0, Loss: 2.5685\n",
            "Epoch: 53/100, Batch: 0, Loss: 2.5573\n",
            "Epoch: 54/100, Batch: 0, Loss: 2.5726\n",
            "Epoch: 55/100, Batch: 0, Loss: 2.5356\n",
            "Epoch: 56/100, Batch: 0, Loss: 2.5229\n",
            "Epoch: 57/100, Batch: 0, Loss: 2.5691\n",
            "Epoch: 58/100, Batch: 0, Loss: 2.5703\n",
            "Epoch: 59/100, Batch: 0, Loss: 2.5526\n",
            "Epoch: 60/100, Batch: 0, Loss: 2.5314\n",
            "Epoch: 61/100, Batch: 0, Loss: 2.5456\n",
            "Epoch: 62/100, Batch: 0, Loss: 2.5428\n",
            "Epoch: 63/100, Batch: 0, Loss: 2.5114\n",
            "Epoch: 64/100, Batch: 0, Loss: 2.5005\n",
            "Epoch: 65/100, Batch: 0, Loss: 2.4964\n",
            "Epoch: 66/100, Batch: 0, Loss: 2.5175\n",
            "Epoch: 67/100, Batch: 0, Loss: 2.5133\n",
            "Epoch: 68/100, Batch: 0, Loss: 2.4945\n",
            "Epoch: 69/100, Batch: 0, Loss: 2.4910\n",
            "Epoch: 70/100, Batch: 0, Loss: 2.4837\n",
            "Epoch: 71/100, Batch: 0, Loss: 2.4733\n",
            "Epoch: 72/100, Batch: 0, Loss: 2.4859\n",
            "Epoch: 73/100, Batch: 0, Loss: 2.4727\n",
            "Epoch: 74/100, Batch: 0, Loss: 2.4606\n",
            "Epoch: 75/100, Batch: 0, Loss: 2.4675\n",
            "Epoch: 76/100, Batch: 0, Loss: 2.4523\n",
            "Epoch: 77/100, Batch: 0, Loss: 2.4561\n",
            "Epoch: 78/100, Batch: 0, Loss: 2.4734\n",
            "Epoch: 79/100, Batch: 0, Loss: 2.4738\n",
            "Epoch: 80/100, Batch: 0, Loss: 2.4267\n",
            "Epoch: 81/100, Batch: 0, Loss: 2.4360\n",
            "Epoch: 82/100, Batch: 0, Loss: 2.4370\n",
            "Epoch: 83/100, Batch: 0, Loss: 2.4357\n",
            "Epoch: 84/100, Batch: 0, Loss: 2.4374\n",
            "Epoch: 85/100, Batch: 0, Loss: 2.4217\n",
            "Epoch: 86/100, Batch: 0, Loss: 2.4231\n",
            "Epoch: 87/100, Batch: 0, Loss: 2.4235\n",
            "Epoch: 88/100, Batch: 0, Loss: 2.4418\n",
            "Epoch: 89/100, Batch: 0, Loss: 2.4125\n",
            "Epoch: 90/100, Batch: 0, Loss: 2.4108\n",
            "Epoch: 91/100, Batch: 0, Loss: 2.4049\n",
            "Epoch: 92/100, Batch: 0, Loss: 2.4261\n",
            "Epoch: 93/100, Batch: 0, Loss: 2.4158\n",
            "Epoch: 94/100, Batch: 0, Loss: 2.4163\n",
            "Epoch: 95/100, Batch: 0, Loss: 2.3961\n",
            "Epoch: 96/100, Batch: 0, Loss: 2.4105\n",
            "Epoch: 97/100, Batch: 0, Loss: 2.3928\n",
            "Epoch: 98/100, Batch: 0, Loss: 2.3865\n",
            "Epoch: 99/100, Batch: 0, Loss: 2.3818\n",
            "Epoch: 100/100, Batch: 0, Loss: 2.3831\n"
          ]
        }
      ],
      "source": [
        "# your beautiful experiments here\n",
        "class CharRNN(nn.Module):\n",
        "    def __init__(self, num_tokens, embedding_size, hidden_size):\n",
        "        super(CharRNN, self).__init__()\n",
        "        self.embedding = nn.Embedding(num_tokens, embedding_size)\n",
        "        self.rnn = nn.RNN(embedding_size, hidden_size, batch_first=True)\n",
        "        self.fc = nn.Linear(hidden_size, num_tokens)\n",
        "\n",
        "    def forward(self, x, hidden):\n",
        "        x = self.embedding(x)\n",
        "        out, hidden = self.rnn(x, hidden)\n",
        "        out = self.fc(out)\n",
        "        return out, hidden\n",
        "\n",
        "\n",
        "embedding_size = 128\n",
        "hidden_size = 256\n",
        "lr = 0.001\n",
        "epochs = 100\n",
        "\n",
        "model = CharRNN(num_tokens, embedding_size, hidden_size).to(device)\n",
        "optimizer = torch.optim.Adam(model.parameters(), lr=lr)\n",
        "criterion = nn.CrossEntropyLoss()\n",
        "\n",
        "losses = []\n",
        "\n",
        "for epoch in range(epochs):\n",
        "    for i, data in enumerate(generate_chunk()):\n",
        "        inputs = torch.tensor(data[:, :-1], dtype=torch.long).to(device)\n",
        "        targets = torch.tensor(data[:, 1:], dtype=torch.long).to(device)\n",
        "        hidden = torch.zeros(1, batch_size, hidden_size).to(device)\n",
        "\n",
        "        optimizer.zero_grad()\n",
        "        outputs, hidden = model(inputs, hidden)\n",
        "        loss = criterion(outputs.view(-1, num_tokens), targets.view(-1))\n",
        "        loss.backward()\n",
        "        optimizer.step()\n",
        "        losses.append(loss.item())\n",
        "        if i % 100 == 0:\n",
        "            print(f'Epoch: {epoch+1}/{epochs}, Batch: {i}, Loss: {loss.item():.4f}')\n"
      ]
    },
    {
      "cell_type": "markdown",
      "metadata": {
        "id": "YOq8SszD12gS"
      },
      "source": [
        "В качестве иллюстрации ниже доступен график значений функции потерь, построенный в ходе обучения авторской сети (сам код для ее обучения вам и предстоит написать)."
      ]
    },
    {
      "cell_type": "code",
      "execution_count": 78,
      "metadata": {
        "id": "p1DVfcmS12gS",
        "outputId": "9095aa56-6672-472e-864e-0181c071dc30",
        "colab": {
          "base_uri": "https://localhost:8080/",
          "height": 487
        }
      },
      "outputs": [
        {
          "output_type": "display_data",
          "data": {
            "text/plain": [
              "<Figure size 1000x500 with 1 Axes>"
            ],
            "image/png": "[encoded data removed]"
          },
          "metadata": {}
        }
      ],
      "source": [
        "plt.figure(figsize=(10, 5))\n",
        "plt.plot(losses)\n",
        "plt.xlabel('Iteration')\n",
        "plt.ylabel('Loss')\n",
        "plt.title('Training Loss')\n",
        "plt.show()\n"
      ]
    },
    {
      "cell_type": "markdown",
      "metadata": {
        "id": "aPLGR7Wz12gS"
      },
      "source": [
        "Шаблон функции `generate_sample` также доступен ниже. Вы можете как дозаполнить его, так и написать свою собственную функцию с нуля. Не забывайте, что все примеры в обучающей выборке начинались с токена `<sos>`."
      ]
    },
    {
      "cell_type": "code",
      "execution_count": 79,
      "metadata": {
        "id": "e7ZX-JGi12gS"
      },
      "outputs": [],
      "source": [
        "def generate_sample(char_rnn, seed_phrase=None, max_length=200, temperature=1.0, device=device):\n",
        "    '''\n",
        "    The function generates text given a phrase of length at least SEQ_LENGTH.\n",
        "    :param seed_phrase: prefix characters. The RNN is asked to continue the phrase\n",
        "    :param max_length: maximum output length, including seed_phrase\n",
        "    :param temperature: coefficient for sampling.  higher temperature produces more chaotic outputs,\n",
        "                        smaller temperature converges to the single most likely output\n",
        "    '''\n",
        "\n",
        "    if seed_phrase is not None:\n",
        "        x_sequence = [token_to_idx['<sos>']] + [token_to_idx[token] for token in seed_phrase]\n",
        "    else:\n",
        "        x_sequence = [token_to_idx['<sos>']]\n",
        "\n",
        "    x_sequence = torch.tensor([x_sequence], dtype=torch.int64).to(device)\n",
        "\n",
        "    #feed the seed phrase, if any\n",
        "\n",
        "    # your code here\n",
        "    '''\n",
        "    hidden = torch.zeros(1, 1, hidden_size).to(device)\n",
        "\n",
        "    for i in range(max_length):\n",
        "        output, hidden = model(x_sequence[:,-1:], hidden)\n",
        "        probs = F.softmax(output/temperature, dim=-1)\n",
        "        probs = probs.cpu().detach().numpy()\n",
        "        next_token = np.random.choice(np.arange(num_tokens), p=probs.ravel())\n",
        "        x_sequence = torch.cat([x_sequence, torch.tensor([[next_token]], dtype=torch.long).to(device)], dim=1)\n",
        "\n",
        "    return ''.join([tokens[ix] for ix in x_sequence.cpu().data.numpy()[0][1:]]).replace('<sos>', '')\n",
        "    '''\n",
        "    hidden = torch.zeros(1, 1, hidden_size).to(device)\n",
        "\n",
        "    for i in range(max_length):\n",
        "        output, hidden = model(x_sequence[:,-1:], hidden)\n",
        "        probs = F.softmax(output/temperature, dim=-1)\n",
        "        probs = probs.cpu().detach().numpy()\n",
        "        next_token = np.random.choice(np.arange(num_tokens), p=probs.ravel())\n",
        "        x_sequence = torch.cat([x_sequence, torch.tensor([[next_token]], dtype=torch.long).to(device)], dim=1)\n",
        "\n",
        "    generated_text = ''.join([tokens[ix] for ix in x_sequence.cpu().data.numpy()[0][1:]])\n",
        "    generated_text = generated_text.replace('<sos>', '')\n",
        "    # Дополняем или обрезаем до 500 символов\n",
        "    generated_text = generated_text[:500]  # Обрезаем, если длина больше 500\n",
        "    generated_text += ' ' * (500 - len(generated_text)) # Дополняем пробелами, если меньше 500\n",
        "\n",
        "    return generated_text\n",
        "\n",
        "\n",
        "\n",
        "    #return ''.join([tokens[ix] for ix in x_sequence.cpu().data.numpy()[0]])"
      ]
    },
    {
      "cell_type": "markdown",
      "metadata": {
        "id": "if0Zdsq_12gS"
      },
      "source": [
        "Пример текста сгенерированного обученной моделью доступен ниже. Не страшно, что в тексте много несуществующих слов. Используемая модель очень проста: это простая классическая RNN."
      ]
    },
    {
      "cell_type": "code",
      "execution_count": 80,
      "metadata": {
        "id": "yF-Iuqmw12gS",
        "outputId": "728ffe13-7642-4310-ac17-13085c8bb121",
        "colab": {
          "base_uri": "https://localhost:8080/"
        }
      },
      "outputs": [
        {
          "output_type": "stream",
          "name": "stdout",
          "text": [
            " мой дядя самых честных правилобет,\n",
            "еднаяе, нрепола позалыльсяруетьсна дветьле мездляняю стращихтык карыя сторон,\n",
            "и слет: е тузсаль о зномной, вольянся жалто мого мукать ей\n",
            "ни вортом и дана;\n",
            "вститьен,\n",
            "оний\n",
            "ит трых дас бамняж\n",
            "полих с бернилидье этой дно готьа но дрезче скерной; влуши лиходна столь ужресь прада стоди мон ое встый,\n",
            "по трамел вераюта;\n",
            "кще виланижить проветья, сзанею верпое и не тевсят.\n",
            "\n",
            "\n",
            "\n",
            "\n",
            "xwxxxv\n",
            "\n",
            "\n",
            "\n",
            "xvде томновсяда бым проль. стет лить я л ем оот.\n",
            "\n",
            "чик ив оста елих пала, стой другае\n"
          ]
        }
      ],
      "source": [
        "print(generate_sample(model, ' мой дядя самых честных правил', max_length=500, temperature=0.8))"
      ]
    },
    {
      "cell_type": "markdown",
      "metadata": {
        "id": "YwFvHiKP12gS"
      },
      "source": [
        "### Сдача задания\n",
        "Сгенерируйте десять последовательностей длиной 500, используя строку ' мой дядя самых честных правил'. Температуру для генерации выберите самостоятельно на основании визуального качества генериуремого текста. Не забудьте удалить все технические токены в случае их наличия.\n",
        "\n",
        "Сгенерированную последовательность сохрание в переменную `generated_phrase` и сдайте сгенерированный ниже файл в контест."
      ]
    },
    {
      "cell_type": "code",
      "execution_count": 81,
      "metadata": {
        "id": "sB5p9j9T12gT"
      },
      "outputs": [],
      "source": [
        "seed_phrase = ' мой дядя самых честных правил'"
      ]
    },
    {
      "cell_type": "code",
      "execution_count": 82,
      "metadata": {
        "id": "Qe9T5-Op12gT",
        "colab": {
          "base_uri": "https://localhost:8080/"
        },
        "outputId": "fb0d5dba-9ac3-4555-d3b0-2641779bde2c"
      },
      "outputs": [
        {
          "output_type": "stream",
          "name": "stdout",
          "text": [
            " мой дядя самых честных правилитым не дседетькою чесава гравиляна в иводван.\n",
            "\n",
            "\n",
            "xxvii\n",
            "постугитой мылод сублоснолы бынья в сезмать прадьние кражилил и верадой дорот,\n",
            "кубны.\n",
            "\n",
            "\n",
            "пусьный ругде орлежть мересты ти стрибовий,\n",
            "с и блевно.\n",
            "и вздом,\n",
            "и кове: бых новосккам\n",
            "олоныть устоеньо,\n",
            "те да толи мдушь, и ведовиный резе северой то пререт;\n",
            "м\n",
            "ою меды тахненой,\n",
            "и пр скужкой бразанит проем росьсрасто перети ма булень: ллянати чтося,\n",
            "астваядь нельяни таканые сареб\n",
            "онноны стыл.\n",
            "\n",
            "таша блага ердать.\n",
            "пинь дуя,\n",
            "оа\n",
            " мой дядя самых честных правилюбиц.\n",
            "ок прочраной!)\n",
            "прожел когси полат.\n",
            "не востья, ивдедамил бружий преди сворь-о\n",
            "прудом вораль в ворчуя мне вззазня.\n",
            "потновы\n",
            "поредний и малонь отолу, татри, овстиланны ородой\n",
            "ель? веда:ья моет в тон, приге любы\n",
            "в тав свгрет;\n",
            "\n",
            "\n",
            "\n",
            "\n",
            "xxvii\n",
            "\n",
            "\n",
            "\n",
            "xxii\n",
            "\n",
            "\n",
            "\n",
            "xxvil\n",
            "прик оннелье, ереезлинь\n",
            "\n",
            "едсне посладно мая лобытня в люже ваям но масены в тота,\n",
            "та бовдяней седолсяй.\n",
            "\n",
            "\n",
            "xii\n",
            "\n",
            "\n",
            "\n",
            "xxxxiii\n",
            "\n",
            "\n",
            "\n",
            "xxi\n",
            "\n",
            "\n",
            "ом кочах костот полелка,\n",
            "и мось лом;\n",
            "подругеть мугоннетьянымылья,\n",
            "нго тыматка занитыб,\n",
            " мой дядя самых честных правилgдь;\n",
            "смилый на завыменый димил;\n",
            "не мазнит таль татья порузня,\n",
            "ч о желость-ой в серны, ду та ходоветья: в прогот,\n",
            "кримой,\n",
            "ридобиват русти и мачеж\n",
            "i\n",
            "\n",
            "(\n",
            "з друждет падеть, мосокреди не обону пыт;\n",
            "и гриёны, на перений посинья, вет рерный неж\n",
            "вещел сена трыду пирган оверат, пит менни9 мил на тбури они плишил заредчив,\n",
            "пой\n",
            "утвоши стоже бете полись… но ески хощвит,\n",
            "и  нестым и мобокитья дола о плядной еда соблимо залодай девома грогоста стазкуть и вечь,\n",
            "трам ведний сна слен\n",
            " мой дядя самых честных правиланой нета,\n",
            "нихо шетудвет я госталь пожелод;\n",
            "не набыл уж отожа\n",
            "тьпото ный, обледный на плюбегла вел рась оль и сляэн: с докодь, иты ракрадови ломи приз роне голов рованит вор режер,\n",
            "в томера;\n",
            "томон под слечень брашет,\n",
            "как ланише лусь,\n",
            "лажил,\n",
            "прета вотимни.\n",
            "\n",
            "\n",
            "\n",
            "xxvi\n",
            "\n",
            "\n",
            "\n",
            "xlii\n",
            "\n",
            "училь:\n",
            "деполуты мизны кваегнишей призна бляньц, всай,\n",
            "и манилу тонь,\n",
            "с\n",
            "при треде м наза; тлечто он слудитет, и кок отружи: б женя,\n",
            "тат, ленье, ведне кробой\n",
            "почто бривневног ни предлии,\n",
            "кагнеd\n",
            "\n",
            "вщи \n",
            " мой дядя самых честных правильшуй чащей.\n",
            "ча проврый слhихорскит легеней.\n",
            "\n",
            "но балусьни мерсшу икалмилин пороливать явали олпеедался пузато и спродит м, товзатьяна прогой\n",
            "но хожей,\n",
            "слеце пролет каж порот?\n",
            "но русты\n",
            "восянерь ослает ни вошный, быхилистели непропимен одалат ла не ваезлубою ситве о е крировит\n",
            "легил, мушаня водерь.\n",
            "\n",
            "модры груж,\n",
            "нек валанье ветиму скугду текалю не тьят\n",
            "и девна\n",
            "е велгево тых руго призну в оговиший\n",
            "сом в та вобитьет пробоста омбыльян, а вотсти рогом, повен миналутся проме\n",
            " мой дядя самых честных правилюбел подеть\n",
            "примал блюб\n",
            "такь и сэто ветьши бребовый частит, нена длада месей зак миад,\n",
            "закик\n",
            "; на веснели промним е стеси вдредца.\n",
            "оноворгдена бамены.\n",
            "кони ветдат;\n",
            "промой недных цуглядит;\n",
            "н беритный нечить сною сежет, в дел наскло неслого\n",
            "в оттом\n",
            "его\n",
            "дерутьяв ерудим и в дока гладил до снодный,\n",
            "залещкий, постеме;\n",
            "бтохя;\n",
            "ве жепонны: у чтв сто ныц с осленов светак они дакистит. вюрум,\n",
            "кы соле;\n",
            "тумаскир сковой не борух учссеромать ё нем буста та жвет ни симень дружное в\n",
            " мой дядя самых честных правиладу са ей шладен озбылась и бадму, строгой помильсой\n",
            "водидил сел\n",
            "ог тадов шиз мсчем остоте, молтавы задала ох зерныль\n",
            "\n",
            "у сане спричик виян; пребленилий,\n",
            "разанний сдрушилиди сюбол,\n",
            "ком льнет ит птодил беромной,\n",
            "подвестькик остыла продвей:ий васпраски пель.а дождый паен, градовей предето ввенных шистри утно, пик, м чер жа стаста стогеня злоговит я кежье,\n",
            "почтожной как номить, кокупрок копранный верней и в, деренье\n",
            "\n",
            "и прокне старок.\n",
            "\n",
            "\n",
            "\n",
            "xii\n",
            "\n",
            "\n",
            "\n",
            "\n",
            "\n",
            "\n",
            "xii\n",
            "\n",
            "невет постовой на \n",
            " мой дядя самых честных правиладем желресь вет дамет пом не пяси: сталы не вся далюбый середнию поеждем, закаленой,\n",
            "– дразиц;\n",
            "чи всерна,\n",
            "у зокик и кан уможь пестаяна ни тут межеть готваль.\n",
            "постра пелья\n",
            "провет иньета всужный,\n",
            "ин в и ванана стоть шетемто веро слито ое уждом\n",
            "егом всен, ив шав,\n",
            "чтогой чувит пороння были не прово дуль…\n",
            "\n",
            "\n",
            "\n",
            "xxiii\n",
            "\n",
            "\n",
            "xxii\n",
            "\n",
            "\n",
            "xxxx\n",
            "\n",
            "\n",
            "\n",
            "xxxi\n",
            "\n",
            "\n",
            "\n",
            "xxvii\n",
            "та скутсяем\n",
            "крогом но гимане прогдо затать, нени, бом на сона злижал семенней;\n",
            "ораце дому поремивы, больнох мель в снаши тамум \n",
            " мой дядя самых честных правилюбихол калень.\n",
            "\n",
            "\n",
            "\n",
            "\n",
            "xvii\n",
            "\n",
            "он точи з вона этал овсе тьене,\n",
            "не дастовалк\n",
            "и тону морим,\n",
            "и всё нощалить и блашны прожанас ресстоной порно горой,\n",
            "с яник быт селетечеть,\n",
            "скоглилирой внез шуман, выласты, муртия садаяд,\n",
            "ного проголенье жной негонно9 вази середын о преду,\n",
            "и ворогол подута оне сывастасно бостел телил, мурит улонь,\n",
            "св дать чалый,\n",
            "и оношет,\n",
            "на беровой ковать перой оэлась паказ и токсемей в редрей покля;\n",
            "петем;\n",
            "овсёние состали сеглалины не ельете так внетих\n",
            "\n",
            "\n",
            "\n",
            "\n",
            "в\n",
            " мой дядя самых честных правилядай поженей;\n",
            "нена та бастной тоборитс пренья ско жарев онни; прустим ондята мед мов дерцо он одем,\n",
            "бечтей лонья выла дамит.\n",
            "\n",
            "попразинученесь.\n",
            "\n",
            "\n",
            "xxxi\n",
            "\n",
            "\n",
            "ат ей лиму дела дим и усти: о.\n",
            "н исней\n",
            "нат вобестем, впроской салаям,\n",
            "в пистой сураль,\n",
            "встет гел вжет иней «на ина былона,\n",
            "совдавил скорения р дада, незвей, оталный, твераши и берское палны ком, середе мня ем\n",
            "стово нувоплен и шлествинный скушит\n",
            "и сонних итого козда оной ленный жежит моругону удестье тали. с вскариеже\n"
          ]
        }
      ],
      "source": [
        "#generated_phrases = # your code here\n",
        "\n",
        "# For example:\n",
        "\n",
        "# generated_phrases = [\n",
        "#     generate_sample(\n",
        "#         model,\n",
        "#         ' мой дядя самых честных правил',\n",
        "#         max_length=500,\n",
        "#         temperature=1.\n",
        "#     ).replace('<sos>', '')\n",
        "#     for _ in range(10)\n",
        "# ]\n",
        "temperature = 0.8\n",
        "generated_phrases = [\n",
        "    generate_sample(\n",
        "        model,\n",
        "        seed_phrase,\n",
        "        max_length=500,\n",
        "        temperature=temperature\n",
        "    )\n",
        "    for _ in range(10)\n",
        "]\n",
        "\n",
        "for phrase in generated_phrases:\n",
        "    print(phrase)"
      ]
    },
    {
      "cell_type": "code",
      "execution_count": 83,
      "metadata": {
        "id": "kKTbJtIi12gT",
        "colab": {
          "base_uri": "https://localhost:8080/"
        },
        "outputId": "bd6efb99-ee25-432e-ff89-a2f056be0988"
      },
      "outputs": [
        {
          "output_type": "stream",
          "name": "stdout",
          "text": [
            "File saved to `submission_dict_hw07.npy`\n"
          ]
        }
      ],
      "source": [
        "# do not change the code in the block below\n",
        "# __________start of block__________\n",
        "\n",
        "if 'generated_phrases' not in locals():\n",
        "    raise ValueError(\"Please, save generated phrases to `generated_phrases` variable\")\n",
        "\n",
        "for phrase in generated_phrases:\n",
        "\n",
        "    if not isinstance(phrase, str):\n",
        "        raise ValueError(\"The generated phrase should be a string\")\n",
        "\n",
        "    if len(phrase) != 500:\n",
        "        raise ValueError(\"The `generated_phrase` length should be equal to 500\")\n",
        "\n",
        "    assert all([x in set(tokens) for x in set(list(phrase))]), 'Unknown tokens detected, check your submission!'\n",
        "\n",
        "\n",
        "submission_dict = {\n",
        "    'token_to_idx': token_to_idx,\n",
        "    'generated_phrases': generated_phrases\n",
        "}\n",
        "\n",
        "np.save('submission_dict_hw07.npy', submission_dict, allow_pickle=True)\n",
        "print('File saved to `submission_dict_hw07.npy`')\n",
        "# __________end of block__________"
      ]
    },
    {
      "cell_type": "markdown",
      "metadata": {
        "id": "l7ONIO0612gT"
      },
      "source": [
        "На этом задание завершено. Поздравляем!"
      ]
    },
    {
      "cell_type": "markdown",
      "source": [
        "Result: 1.0 / 1.0"
      ],
      "metadata": {
        "id": "po1xEI5v2zbB"
      }
    }
  ],
  "metadata": {
    "accelerator": "GPU",
    "anaconda-cloud": {},
    "colab": {
      "provenance": [],
      "gpuType": "T4"
    },
    "kernelspec": {
      "display_name": "Py3 Research",
      "language": "python",
      "name": "py3_research"
    },
    "language_info": {
      "codemirror_mode": {
        "name": "ipython",
        "version": 3
      },
      "file_extension": ".py",
      "mimetype": "text/x-python",
      "name": "python",
      "nbconvert_exporter": "python",
      "pygments_lexer": "ipython3",
      "version": "3.7.10"
    }
  },
  "nbformat": 4,
  "nbformat_minor": 0
}