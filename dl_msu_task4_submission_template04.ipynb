{
  "nbformat": 4,
  "nbformat_minor": 0,
  "metadata": {
    "colab": {
      "provenance": []
    },
    "kernelspec": {
      "name": "python3",
      "display_name": "Python 3"
    },
    "language_info": {
      "name": "python"
    }
  },
  "cells": [
    {
      "cell_type": "code",
      "execution_count": 1,
      "metadata": {
        "id": "ySMZ5utFlOu1"
      },
      "outputs": [],
      "source": [
        "import numpy as np\n",
        "import torch\n",
        "from torch import nn\n",
        "from torch.nn import functional as F\n",
        "\n",
        "class ConvNet(nn.Module):\n",
        "    def __init__(self):\n",
        "        super().__init__()\n",
        "\n",
        "        # Определите слои сети\n",
        "        self.conv1 = nn.Conv2d(in_channels=3, out_channels=3, kernel_size=(5, 5))\n",
        "        self.pool1 = nn.MaxPool2d(kernel_size=(2,2))  # Добавлено kernel_size\n",
        "        self.conv2 = nn.Conv2d(in_channels=3, out_channels=5, kernel_size=(3, 3))\n",
        "        self.pool2 = nn.MaxPool2d(kernel_size=(2,2))\n",
        "\n",
        "        self.flatten = nn.Flatten()\n",
        "\n",
        "        # Исправленный размер входного слоя fc1\n",
        "        self.fc1 = nn.Linear(5 * 6 * 6, 100)\n",
        "        self.fc2 = nn.Linear(100, 10)\n",
        "\n",
        "    def forward(self, x):\n",
        "        # Размерность x ~ [64, 3, 32, 32]\n",
        "\n",
        "        # Реализуйте forward pass сети\n",
        "        x = F.relu(self.conv1(x))\n",
        "        x = self.pool1(x)\n",
        "        x = F.relu(self.conv2(x))\n",
        "        x = self.pool2(x)\n",
        "        x = self.flatten(x)\n",
        "        x = F.relu(self.fc1(x))\n",
        "        x = self.fc2(x)\n",
        "        return x\n",
        "\n",
        "def create_model():\n",
        "    return ConvNet()"
      ]
    }
  ]
}